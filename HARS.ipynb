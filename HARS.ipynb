{
 "cells": [
  {
   "cell_type": "code",
   "execution_count": 19,
   "id": "designed-finland",
   "metadata": {},
   "outputs": [],
   "source": [
    "import math"
   ]
  },
  {
   "cell_type": "code",
   "execution_count": 20,
   "id": "medium-effort",
   "metadata": {},
   "outputs": [],
   "source": [
    "import csv"
   ]
  },
  {
   "cell_type": "code",
   "execution_count": 21,
   "id": "adverse-theory",
   "metadata": {},
   "outputs": [],
   "source": [
    "import time"
   ]
  },
  {
   "cell_type": "code",
   "execution_count": 22,
   "id": "amended-nylon",
   "metadata": {},
   "outputs": [],
   "source": [
    "csv_file = 'smallData.csv'"
   ]
  },
  {
   "cell_type": "code",
   "execution_count": 23,
   "id": "deluxe-intent",
   "metadata": {},
   "outputs": [],
   "source": [
    "extracted_data = {}"
   ]
  },
  {
   "cell_type": "code",
   "execution_count": 24,
   "id": "cooperative-container",
   "metadata": {},
   "outputs": [],
   "source": [
    "def main():\n",
    "    welcome()\n",
    "    time.sleep(1)\n",
    "    print('Do you wanna run the program')\n",
    "    selection = input(\": \")\n",
    "    if selection == 'y' or selection == 'yes' :\n",
    "        activity_data()\n",
    "        activity_features()\n",
    "        print('Your data is being extracted')\n",
    "        time.sleep(1)\n",
    "        print('Data extraction successfully completed')\n",
    "        feature_module()\n",
    "        print('Program ended')\n",
    "    else:\n",
    "        time.sleep(1)\n",
    "        print('-----------Program Ended--------- ')"
   ]
  },
  {
   "cell_type": "code",
   "execution_count": 25,
   "id": "lined-wrong",
   "metadata": {},
   "outputs": [],
   "source": [
    "def welcome():\n",
    "    print('Human Activity Recognition  systems')\n",
    "    print('Welcome to Human activity recognition System , We helps you calculate accurate and fast statistical features '\n",
    "      'of your data ')\n",
    "    print('--------------------------------------------------------------------------')"
   ]
  },
  {
   "cell_type": "code",
   "execution_count": 26,
   "id": "atmospheric-institution",
   "metadata": {},
   "outputs": [],
   "source": [
    "def activity_data():\n",
    "    with open(csv_file, 'r') as data_file:\n",
    "        reader = csv.DictReader(data_file)\n",
    "        for row in reader:\n",
    "            id = row['_id']\n",
    "            del row['_id']\n",
    "            extracted_data[id] = row"
   ]
  },
  {
   "cell_type": "code",
   "execution_count": 27,
   "id": "swedish-domain",
   "metadata": {},
   "outputs": [],
   "source": [
    "final_dictionary = {}\n",
    "final_dict = {}\n",
    "orX = []\n",
    "orY = []\n",
    "orZ = []\n",
    "rX = []\n",
    "rY = []\n",
    "rZ = []\n",
    "accX = []\n",
    "accY = []\n",
    "accZ = []\n",
    "mX = []\n",
    "mY = []\n",
    "mZ = []\n",
    "gX = []\n",
    "gY = []\n",
    "gZ = []\n",
    "soundLevel = []\n",
    "sensors = ['orX', 'orY', 'orZ', 'rX', 'rY', 'rZ', 'accX',\n",
    "           'accY', 'accZ', 'mX', 'mY', 'mZ', 'gX', 'gY', 'gZ','soundLevel']\n",
    "result_data = {}"
   ]
  },
  {
   "cell_type": "code",
   "execution_count": 28,
   "id": "loaded-church",
   "metadata": {},
   "outputs": [],
   "source": [
    "#to store the statistical features "
   ]
  },
  {
   "cell_type": "code",
   "execution_count": 51,
   "id": "southern-arrival",
   "metadata": {},
   "outputs": [],
   "source": [
    "def activity_features():\n",
    "    for sensor in sensors:\n",
    "        for key, value in extracted_data.items():\n",
    "            val = value[sensor]\n",
    "            grouply_extraction(sensor,val)\n",
    "        "
   ]
  },
  {
   "cell_type": "code",
   "execution_count": 50,
   "id": "digital-craft",
   "metadata": {},
   "outputs": [],
   "source": [
    "def grouply_extraction(sensor,val):     \n",
    "        if sensor == 'orX':\n",
    "            orX.append(float(val))\n",
    "            final_dictionary[sensor] = orX\n",
    "        if sensor == 'orY':\n",
    "            orY.append(float(val))\n",
    "            final_dictionary[sensor] = orY\n",
    "        if sensor == 'orZ':\n",
    "            orZ.append(float(val))\n",
    "            final_dictionary[sensor] = orZ\n",
    "        if sensor == 'rX':\n",
    "            rX.append(float(val))\n",
    "            final_dictionary[sensor] = rX\n",
    "        if sensor == 'rY':\n",
    "            rY.append(float(val))\n",
    "            final_dictionary[sensor] = rY\n",
    "        if sensor == 'rZ':\n",
    "            rZ.append(float(val))\n",
    "            final_dictionary[sensor] = rZ\n",
    "        if sensor == 'accX':\n",
    "            accX.append(float(val))\n",
    "            final_dictionary[sensor] = accX\n",
    "        if sensor == 'accY':\n",
    "            accY.append(float(val))\n",
    "            final_dictionary[sensor] = accY\n",
    "        if sensor == 'accZ':\n",
    "            accZ.append(float(val))\n",
    "            final_dictionary[sensor] = accZ\n",
    "        if sensor == 'mX':\n",
    "            mX.append(float(val))\n",
    "            final_dictionary[sensor] = mX\n",
    "        if sensor == 'mY':\n",
    "            mY.append(float(val))\n",
    "            final_dictionary[sensor] = mY\n",
    "        if sensor == 'mZ':\n",
    "            mZ.append(float(val))\n",
    "            final_dictionary[sensor] = mZ\n",
    "        if sensor == 'gX':\n",
    "            gX.append(float(val))\n",
    "            final_dictionary[sensor] = gX\n",
    "        if sensor == 'gY':\n",
    "            gY.append(float(val))\n",
    "            final_dictionary[sensor] = gY\n",
    "        if sensor == 'gZ':\n",
    "            gZ.append(float(val))\n",
    "            final_dictionary[sensor] = gZ\n",
    "        if sensor == 'soundLevel':\n",
    "            soundLevel.append(float(val))\n",
    "            final_dictionary[sensor] = soundLevel\n",
    "        "
   ]
  },
  {
   "cell_type": "code",
   "execution_count": 59,
   "id": "associate-barrier",
   "metadata": {},
   "outputs": [],
   "source": [
    "def feature_module():\n",
    "    print('feature module called')\n",
    "    \n",
    "    #eight functions\n",
    "    def find_mean(numbers):\n",
    "        length = len(numbers)\n",
    "        result = sum(numbers) / length\n",
    "        return result\n",
    "\n",
    "    def find_median(numbers):\n",
    "        list_n = sorted(numbers)\n",
    "        if len(list_n) % 2 == 0:\n",
    "            a = (len(list_n) // 2) - 1\n",
    "            b = (len(list_n) // 2)\n",
    "            median = (list_n[a] + list_n[b]) / 2\n",
    "        else:\n",
    "            median = list_n[len(list_n) // 2]\n",
    "        return median\n",
    "\n",
    "    def find_varience(numbers):\n",
    "        length = len(numbers)\n",
    "        mean_result = find_mean(numbers)\n",
    "        square_diff = []\n",
    "        for number in numbers:\n",
    "            square_diff.append((number - mean_result) ** 2)\n",
    "        result = sum(square_diff) / length\n",
    "        return result\n",
    "\n",
    "    def find_standard_deviation(numbers):\n",
    "        varience_result = find_varience(numbers)\n",
    "        return varience_result ** 0.5\n",
    "\n",
    "    def find_covarience(numbers):\n",
    "        standard_deviation_result = find_standard_deviation(numbers)\n",
    "        covarience = (standard_deviation_result / find_mean(numbers)) * 100\n",
    "        return covarience\n",
    "\n",
    "    def find_root_mean_square(numbers):\n",
    "        square_list = []\n",
    "        for num in numbers:\n",
    "            square_list.append(num ** 2)\n",
    "        mean = sum(square_list) / len(numbers)\n",
    "        return math.sqrt(mean)\n",
    "\n",
    "    def find_sum_of_squares(numbers):\n",
    "        square_list = []\n",
    "        for number in numbers:\n",
    "            square_list.append(number ** 2)\n",
    "        return sum(square_list)\n",
    "\n",
    "    def find_zero_cross(numbers):\n",
    "        count_array = []\n",
    "        for index in range(0,len(numbers)-1):\n",
    "            if numbers[index]*numbers[index+1] < 0:\n",
    "                count_array.append(1)\n",
    "            elif numbers[index] * numbers[index+1] > 0:\n",
    "                count_array.append(0)\n",
    "        return sum(count_array)\n",
    "\n",
    "    def collect_features(numbers):\n",
    "        result_data =  {'mean': find_mean(numbers),'median': find_median(numbers),'varience': find_varience(numbers),\n",
    "                       'standard_deviation': find_standard_deviation(numbers),'covarience': find_covarience(numbers),\n",
    "                       'root_mean_square': find_root_mean_square(numbers),'sum_of_squares': find_sum_of_squares(numbers),\n",
    "                        'zero_cross': find_zero_cross(numbers)}\n",
    "        return result_data\n",
    "    for item, values in final_dictionary.items():\n",
    "        final_dict[item] = collect_features(values)\n",
    "    csv_output_writing()\n",
    "\n"
   ]
  },
  {
   "cell_type": "code",
   "execution_count": 61,
   "id": "bacterial-creator",
   "metadata": {},
   "outputs": [],
   "source": [
    "def csv_output_writing():\n",
    "    output_file_name = input('Please type a output file name(eg:\"result\"): ')\n",
    "    with open(output_file_name+'.csv', 'w', newline='') as features_csv:\n",
    "        csv_headers = ['feature', 'orX', 'orY', 'orZ', 'rX', 'rY', 'rZ', 'accX', 'accY', 'accZ', 'mX', 'mY', 'mZ', 'gX','gY', 'gZ','soundLevel']\n",
    "        writer = csv.writer(features_csv)\n",
    "        mean = ['Mean']\n",
    "        median = ['Median']\n",
    "        varience = ['varience']\n",
    "        standard_deviation = ['standard_deviation']\n",
    "        covarience = ['covarience']\n",
    "        root_mean_square = ['root_mean_square']\n",
    "        sum_of_squares = ['sum_of_squares']\n",
    "        zero_cross = ['zero_cross']\n",
    "        for item, val in final_dict.items():\n",
    "            mean.append(val['mean'])\n",
    "            median.append(val['median'])\n",
    "            varience.append(val['varience'])\n",
    "            standard_deviation.append(val['standard_deviation'])\n",
    "            covarience.append(val['covarience'])\n",
    "            root_mean_square.append(val['root_mean_square'])\n",
    "            sum_of_squares.append(val['sum_of_squares'])\n",
    "            zero_cross.append(val['zero_cross'])\n",
    "\n",
    "        writer.writerow(csv_headers)\n",
    "        writer.writerow(mean)\n",
    "        writer.writerow(median)\n",
    "        writer.writerow(varience)\n",
    "        writer.writerow(standard_deviation)\n",
    "        writer.writerow(covarience)\n",
    "        writer.writerow(root_mean_square)\n",
    "        writer.writerow(sum_of_squares)\n",
    "        writer.writerow(zero_cross)\n",
    "\n",
    "        time.sleep(1)\n",
    "        print('Data processed successfully')\n",
    "        time.sleep(1)\n",
    "        print('Data saved successfully in '+output_file_name+'.csv')\n",
    "        print('-------Programm ended------')"
   ]
  },
  {
   "cell_type": "code",
   "execution_count": 63,
   "id": "naughty-terminal",
   "metadata": {},
   "outputs": [
    {
     "name": "stdout",
     "output_type": "stream",
     "text": [
      "Human Activity Recognition  systems\n",
      "Welcome to Human activity recognition System , We helps you calculate accurate and fast statistical features of your data \n",
      "--------------------------------------------------------------------------\n",
      "Do you wanna run the program \n",
      ": y\n",
      "Your data is being extracted\n",
      "Data extraction successfully completed\n",
      "feature module called\n",
      "Please type a output file name(eg:\"result\"): nice\n",
      "Data processed successfully\n",
      "Data saved successfully in nice.csv\n"
     ]
    }
   ],
   "source": [
    "main()"
   ]
  },
  {
   "cell_type": "markdown",
   "id": "posted-musical",
   "metadata": {},
   "source": []
  }
 ],
 "metadata": {
  "kernelspec": {
   "display_name": "Python 3",
   "language": "python",
   "name": "python3"
  },
  "language_info": {
   "codemirror_mode": {
    "name": "ipython",
    "version": 3
   },
   "file_extension": ".py",
   "mimetype": "text/x-python",
   "name": "python",
   "nbconvert_exporter": "python",
   "pygments_lexer": "ipython3",
   "version": "3.8.5"
  }
 },
 "nbformat": 4,
 "nbformat_minor": 5
}
